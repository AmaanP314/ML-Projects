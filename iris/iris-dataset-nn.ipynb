{
 "cells": [
  {
   "cell_type": "code",
   "execution_count": 3,
   "metadata": {
    "_cell_guid": "b1076dfc-b9ad-4769-8c92-a6c4dae69d19",
    "_uuid": "8f2839f25d086af736a60e9eeb907d3b93b6e0e5",
    "execution": {
     "iopub.execute_input": "2024-12-15T02:25:15.838266Z",
     "iopub.status.busy": "2024-12-15T02:25:15.837823Z",
     "iopub.status.idle": "2024-12-15T02:25:30.480281Z",
     "shell.execute_reply": "2024-12-15T02:25:30.479009Z",
     "shell.execute_reply.started": "2024-12-15T02:25:15.838228Z"
    },
    "trusted": true
   },
   "outputs": [],
   "source": [
    "import pandas as pd\n",
    "import numpy as np\n",
    "import tensorflow as tf\n",
    "from sklearn.preprocessing import LabelEncoder\n",
    "from sklearn.preprocessing import StandardScaler\n",
    "\n",
    "csv_file_path = \"IRIS.csv\"  \n",
    "data = pd.read_csv(csv_file_path)\n",
    "\n",
    "features = data.iloc[:, :-1].values \n",
    "labels = data.iloc[:, -1].values  \n",
    "\n",
    "label_encoder = LabelEncoder()\n",
    "labels = label_encoder.fit_transform(labels)\n",
    "\n",
    "scaler = StandardScaler()\n",
    "features = scaler.fit_transform(features)"
   ]
  },
  {
   "cell_type": "code",
   "execution_count": 5,
   "metadata": {
    "execution": {
     "iopub.execute_input": "2024-12-15T02:26:15.291726Z",
     "iopub.status.busy": "2024-12-15T02:26:15.291206Z",
     "iopub.status.idle": "2024-12-15T02:26:15.299547Z",
     "shell.execute_reply": "2024-12-15T02:26:15.298105Z",
     "shell.execute_reply.started": "2024-12-15T02:26:15.291683Z"
    },
    "trusted": true
   },
   "outputs": [],
   "source": [
    "np.savez(\"iris_data.npz\", features=features, labels=labels)"
   ]
  },
  {
   "cell_type": "code",
   "execution_count": 21,
   "metadata": {
    "execution": {
     "iopub.execute_input": "2024-12-14T13:32:48.797348Z",
     "iopub.status.busy": "2024-12-14T13:32:48.796923Z",
     "iopub.status.idle": "2024-12-14T13:32:48.805956Z",
     "shell.execute_reply": "2024-12-14T13:32:48.804626Z",
     "shell.execute_reply.started": "2024-12-14T13:32:48.797312Z"
    },
    "trusted": true
   },
   "outputs": [
    {
     "name": "stdout",
     "output_type": "stream",
     "text": [
      "(150, 4) (150,)\n"
     ]
    }
   ],
   "source": [
    "loaded_data = np.load(\"/kaggle/working/iris_data.npz\")\n",
    "features_loaded = loaded_data[\"features\"]\n",
    "labels_loaded = loaded_data[\"labels\"]\n",
    "\n",
    "print(features_loaded.shape, labels_loaded.shape)"
   ]
  },
  {
   "cell_type": "code",
   "execution_count": 22,
   "metadata": {
    "execution": {
     "iopub.execute_input": "2024-12-14T13:32:52.962804Z",
     "iopub.status.busy": "2024-12-14T13:32:52.962385Z",
     "iopub.status.idle": "2024-12-14T13:32:52.970560Z",
     "shell.execute_reply": "2024-12-14T13:32:52.969065Z",
     "shell.execute_reply.started": "2024-12-14T13:32:52.962768Z"
    },
    "trusted": true
   },
   "outputs": [],
   "source": [
    "dataset = tf.data.Dataset.from_tensor_slices((features_loaded, labels_loaded))"
   ]
  },
  {
   "cell_type": "code",
   "execution_count": 23,
   "metadata": {
    "execution": {
     "iopub.execute_input": "2024-12-14T13:32:53.847093Z",
     "iopub.status.busy": "2024-12-14T13:32:53.846657Z",
     "iopub.status.idle": "2024-12-14T13:32:53.853183Z",
     "shell.execute_reply": "2024-12-14T13:32:53.852140Z",
     "shell.execute_reply.started": "2024-12-14T13:32:53.847056Z"
    },
    "trusted": true
   },
   "outputs": [],
   "source": [
    "num_data_valid = int(0.1 * len(features_loaded))\n",
    "num_data_test = int(0.1 * len(features_loaded))"
   ]
  },
  {
   "cell_type": "code",
   "execution_count": 24,
   "metadata": {
    "execution": {
     "iopub.execute_input": "2024-12-14T13:32:56.232339Z",
     "iopub.status.busy": "2024-12-14T13:32:56.231365Z",
     "iopub.status.idle": "2024-12-14T13:32:56.239459Z",
     "shell.execute_reply": "2024-12-14T13:32:56.238197Z",
     "shell.execute_reply.started": "2024-12-14T13:32:56.232299Z"
    },
    "trusted": true
   },
   "outputs": [],
   "source": [
    "buff_size = 100\n",
    "dataset = dataset.shuffle(buffer_size=buff_size)"
   ]
  },
  {
   "cell_type": "code",
   "execution_count": 25,
   "metadata": {
    "execution": {
     "iopub.execute_input": "2024-12-14T13:32:56.242403Z",
     "iopub.status.busy": "2024-12-14T13:32:56.241891Z",
     "iopub.status.idle": "2024-12-14T13:32:56.261905Z",
     "shell.execute_reply": "2024-12-14T13:32:56.260661Z",
     "shell.execute_reply.started": "2024-12-14T13:32:56.242352Z"
    },
    "trusted": true
   },
   "outputs": [],
   "source": [
    "valid_data = dataset.take(num_data_valid)\n",
    "test_data = dataset.skip(num_data_valid).take(num_data_test)\n",
    "train_data = dataset.skip(num_data_valid + num_data_test)"
   ]
  },
  {
   "cell_type": "code",
   "execution_count": 26,
   "metadata": {
    "execution": {
     "iopub.execute_input": "2024-12-14T13:32:56.373897Z",
     "iopub.status.busy": "2024-12-14T13:32:56.373474Z",
     "iopub.status.idle": "2024-12-14T13:32:56.385502Z",
     "shell.execute_reply": "2024-12-14T13:32:56.384256Z",
     "shell.execute_reply.started": "2024-12-14T13:32:56.373864Z"
    },
    "trusted": true
   },
   "outputs": [],
   "source": [
    "batch_size = 32\n",
    "train_data = train_data.batch(batch_size)\n",
    "valid_data = valid_data.batch(num_data_valid)\n",
    "test_data = test_data.batch(num_data_test)"
   ]
  },
  {
   "cell_type": "code",
   "execution_count": 27,
   "metadata": {
    "execution": {
     "iopub.execute_input": "2024-12-14T13:32:57.113141Z",
     "iopub.status.busy": "2024-12-14T13:32:57.112007Z",
     "iopub.status.idle": "2024-12-14T13:32:57.125365Z",
     "shell.execute_reply": "2024-12-14T13:32:57.123938Z",
     "shell.execute_reply.started": "2024-12-14T13:32:57.113089Z"
    },
    "trusted": true
   },
   "outputs": [],
   "source": [
    "valid_inputs, valid_targets = next(iter(valid_data))"
   ]
  },
  {
   "cell_type": "code",
   "execution_count": 28,
   "metadata": {
    "execution": {
     "iopub.execute_input": "2024-12-14T13:33:00.311613Z",
     "iopub.status.busy": "2024-12-14T13:33:00.311191Z",
     "iopub.status.idle": "2024-12-14T13:33:00.355864Z",
     "shell.execute_reply": "2024-12-14T13:33:00.354657Z",
     "shell.execute_reply.started": "2024-12-14T13:33:00.311577Z"
    },
    "trusted": true
   },
   "outputs": [],
   "source": [
    "input_size = 4\n",
    "output_size = 3\n",
    "hidden_size = 128\n",
    "\n",
    "model = tf.keras.Sequential([\n",
    "    tf.keras.Input(shape = (input_size,)),\n",
    "    tf.keras.layers.Flatten(),\n",
    "    tf.keras.layers.Dense(hidden_size, activation= 'relu'),\n",
    "    tf.keras.layers.Dense(hidden_size, activation= 'relu'),\n",
    "    tf.keras.layers.Dense(hidden_size, activation= 'relu'),\n",
    "    tf.keras.layers.Dense(output_size, activation= 'softmax'),\n",
    "])"
   ]
  },
  {
   "cell_type": "code",
   "execution_count": 29,
   "metadata": {
    "execution": {
     "iopub.execute_input": "2024-12-14T13:33:02.185585Z",
     "iopub.status.busy": "2024-12-14T13:33:02.185156Z",
     "iopub.status.idle": "2024-12-14T13:33:02.196493Z",
     "shell.execute_reply": "2024-12-14T13:33:02.195241Z",
     "shell.execute_reply.started": "2024-12-14T13:33:02.185547Z"
    },
    "trusted": true
   },
   "outputs": [],
   "source": [
    "optimizer = tf.keras.optimizers.Adam(learning_rate=0.0005)\n",
    "early_stopping = tf.keras.callbacks.EarlyStopping(monitor='val_loss', patience=2, restore_best_weights=True)\n",
    "lr_scheduler = tf.keras.callbacks.LearningRateScheduler(lambda epoch: 0.001 * 0.95 ** epoch)\n",
    "model.compile(optimizer=optimizer, loss = 'sparse_categorical_crossentropy', metrics= ['accuracy'])"
   ]
  },
  {
   "cell_type": "code",
   "execution_count": 30,
   "metadata": {
    "execution": {
     "iopub.execute_input": "2024-12-14T13:33:07.521053Z",
     "iopub.status.busy": "2024-12-14T13:33:07.520039Z",
     "iopub.status.idle": "2024-12-14T13:33:09.769533Z",
     "shell.execute_reply": "2024-12-14T13:33:09.767297Z",
     "shell.execute_reply.started": "2024-12-14T13:33:07.521012Z"
    },
    "trusted": true
   },
   "outputs": [
    {
     "name": "stdout",
     "output_type": "stream",
     "text": [
      "Epoch 1/20\n",
      "4/4 - 1s - 347ms/step - accuracy: 0.5583 - loss: 1.0203 - val_accuracy: 0.4000 - val_loss: 0.9999 - learning_rate: 0.0010\n",
      "Epoch 2/20\n",
      "4/4 - 0s - 9ms/step - accuracy: 0.7333 - loss: 0.8304 - val_accuracy: 0.6000 - val_loss: 0.8746 - learning_rate: 9.5000e-04\n",
      "Epoch 3/20\n",
      "4/4 - 0s - 9ms/step - accuracy: 0.8083 - loss: 0.6693 - val_accuracy: 0.6000 - val_loss: 0.7934 - learning_rate: 9.0250e-04\n",
      "Epoch 4/20\n",
      "4/4 - 0s - 9ms/step - accuracy: 0.8167 - loss: 0.5601 - val_accuracy: 0.6000 - val_loss: 0.7218 - learning_rate: 8.5737e-04\n",
      "Epoch 5/20\n",
      "4/4 - 0s - 9ms/step - accuracy: 0.8333 - loss: 0.4514 - val_accuracy: 0.6000 - val_loss: 0.6589 - learning_rate: 8.1451e-04\n",
      "Epoch 6/20\n",
      "4/4 - 0s - 9ms/step - accuracy: 0.8500 - loss: 0.3927 - val_accuracy: 0.6667 - val_loss: 0.6038 - learning_rate: 7.7378e-04\n",
      "Epoch 7/20\n",
      "4/4 - 0s - 9ms/step - accuracy: 0.8500 - loss: 0.3430 - val_accuracy: 0.7333 - val_loss: 0.5098 - learning_rate: 7.3509e-04\n",
      "Epoch 8/20\n",
      "4/4 - 0s - 10ms/step - accuracy: 0.8833 - loss: 0.3018 - val_accuracy: 0.7333 - val_loss: 0.4567 - learning_rate: 6.9834e-04\n",
      "Epoch 9/20\n",
      "4/4 - 0s - 9ms/step - accuracy: 0.8500 - loss: 0.2992 - val_accuracy: 0.7333 - val_loss: 0.4099 - learning_rate: 6.6342e-04\n",
      "Epoch 10/20\n",
      "4/4 - 0s - 9ms/step - accuracy: 0.8750 - loss: 0.2757 - val_accuracy: 0.8000 - val_loss: 0.3651 - learning_rate: 6.3025e-04\n",
      "Epoch 11/20\n",
      "4/4 - 0s - 10ms/step - accuracy: 0.8833 - loss: 0.2425 - val_accuracy: 0.8000 - val_loss: 0.3140 - learning_rate: 5.9874e-04\n",
      "Epoch 12/20\n",
      "4/4 - 0s - 9ms/step - accuracy: 0.9083 - loss: 0.2310 - val_accuracy: 0.8000 - val_loss: 0.2767 - learning_rate: 5.6880e-04\n",
      "Epoch 13/20\n",
      "4/4 - 0s - 9ms/step - accuracy: 0.9000 - loss: 0.2193 - val_accuracy: 0.8000 - val_loss: 0.2538 - learning_rate: 5.4036e-04\n",
      "Epoch 14/20\n",
      "4/4 - 0s - 9ms/step - accuracy: 0.9250 - loss: 0.1934 - val_accuracy: 0.8000 - val_loss: 0.2371 - learning_rate: 5.1334e-04\n",
      "Epoch 15/20\n",
      "4/4 - 0s - 9ms/step - accuracy: 0.9083 - loss: 0.1934 - val_accuracy: 0.8000 - val_loss: 0.2334 - learning_rate: 4.8767e-04\n",
      "Epoch 16/20\n",
      "4/4 - 0s - 9ms/step - accuracy: 0.9083 - loss: 0.1978 - val_accuracy: 0.8000 - val_loss: 0.2315 - learning_rate: 4.6329e-04\n",
      "Epoch 17/20\n",
      "4/4 - 0s - 9ms/step - accuracy: 0.9333 - loss: 0.1801 - val_accuracy: 0.9333 - val_loss: 0.2017 - learning_rate: 4.4013e-04\n",
      "Epoch 18/20\n",
      "4/4 - 0s - 11ms/step - accuracy: 0.9167 - loss: 0.1707 - val_accuracy: 0.9333 - val_loss: 0.1764 - learning_rate: 4.1812e-04\n",
      "Epoch 19/20\n",
      "4/4 - 0s - 11ms/step - accuracy: 0.9417 - loss: 0.1602 - val_accuracy: 0.9333 - val_loss: 0.1674 - learning_rate: 3.9721e-04\n",
      "Epoch 20/20\n",
      "4/4 - 0s - 11ms/step - accuracy: 0.9333 - loss: 0.1678 - val_accuracy: 1.0000 - val_loss: 0.1451 - learning_rate: 3.7735e-04\n"
     ]
    },
    {
     "data": {
      "text/plain": [
       "<keras.src.callbacks.history.History at 0x7f79a5ea0250>"
      ]
     },
     "execution_count": 30,
     "metadata": {},
     "output_type": "execute_result"
    }
   ],
   "source": [
    "epochs = 20\n",
    "model.fit(train_data, \n",
    "          epochs=epochs, \n",
    "          validation_data=(valid_inputs, valid_targets), \n",
    "          callbacks=[early_stopping, lr_scheduler], \n",
    "          verbose = 2)"
   ]
  },
  {
   "cell_type": "code",
   "execution_count": 36,
   "metadata": {
    "execution": {
     "iopub.execute_input": "2024-12-14T13:33:56.444595Z",
     "iopub.status.busy": "2024-12-14T13:33:56.444147Z",
     "iopub.status.idle": "2024-12-14T13:33:56.462995Z",
     "shell.execute_reply": "2024-12-14T13:33:56.461699Z",
     "shell.execute_reply.started": "2024-12-14T13:33:56.444558Z"
    },
    "trusted": true
   },
   "outputs": [
    {
     "name": "stdout",
     "output_type": "stream",
     "text": [
      "\u001b[1m1/1\u001b[0m \u001b[32m━━━━━━━━━━━━━━━━━━━━\u001b[0m\u001b[37m\u001b[0m \u001b[1m0s\u001b[0m 10ms/step - accuracy: 0.9333 - loss: 0.2201\n",
      "Test Accuracy: 93.33%\n"
     ]
    }
   ],
   "source": [
    "test_loss, test_acc = model.evaluate(test_data)\n",
    "print(f\"Test Accuracy: {test_acc * 100:.2f}%\")"
   ]
  }
 ],
 "metadata": {
  "kaggle": {
   "accelerator": "none",
   "dataSources": [
    {
     "datasetId": 17860,
     "sourceId": 23404,
     "sourceType": "datasetVersion"
    }
   ],
   "dockerImageVersionId": 30804,
   "isGpuEnabled": false,
   "isInternetEnabled": false,
   "language": "python",
   "sourceType": "notebook"
  },
  "kernelspec": {
   "display_name": "Python 3",
   "language": "python",
   "name": "python3"
  },
  "language_info": {
   "codemirror_mode": {
    "name": "ipython",
    "version": 3
   },
   "file_extension": ".py",
   "mimetype": "text/x-python",
   "name": "python",
   "nbconvert_exporter": "python",
   "pygments_lexer": "ipython3",
   "version": "3.10.14"
  }
 },
 "nbformat": 4,
 "nbformat_minor": 4
}
